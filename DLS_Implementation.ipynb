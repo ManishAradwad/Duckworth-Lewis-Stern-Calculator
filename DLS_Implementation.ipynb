{
  "cells": [
    {
      "cell_type": "code",
      "execution_count": 1,
      "source": [
        "# Manish Aradwad / 19494\n",
        "\n",
        "from scipy import optimize\n",
        "import pandas as pd\n",
        "pd.options.mode.chained_assignment = None\n",
        "import matplotlib.pyplot as plt\n",
        "import numpy as np\n",
        "from tqdm import tqdm"
      ],
      "outputs": [],
      "metadata": {
        "id": "YQ2TTkv3_BIi"
      },
      "id": "YQ2TTkv3_BIi"
    },
    {
      "cell_type": "code",
      "execution_count": 2,
      "source": [
        "!wget https://ece.iisc.ac.in/~rajeshs/E0259/04_cricket_1999to2011.csv\n",
        "data = pd.read_csv('./04_cricket_1999to2011.csv')\n",
        "data = data[data['Innings']==1]\n",
        "\n",
        "# Data Preprocessing required for Total.Runs column\n",
        "for i in tqdm(range(len(data))):\n",
        "    if data.iloc[i]['Over'] == 1:\n",
        "        data.iloc[i]['Total.Runs'] = data.iloc[i]['Runs']\n",
        "    else:\n",
        "        data.iloc[i]['Total.Runs'] = data.iloc[i]['Runs'] + data.iloc[i-1]['Total.Runs']"
      ],
      "outputs": [
        {
          "output_type": "stream",
          "name": "stdout",
          "text": [
            "--2022-08-20 16:29:37--  https://ece.iisc.ac.in/~rajeshs/E0259/04_cricket_1999to2011.csv\n",
            "Resolving ece.iisc.ac.in (ece.iisc.ac.in)... 13.71.53.212\n",
            "Connecting to ece.iisc.ac.in (ece.iisc.ac.in)|13.71.53.212|:443... connected.\n",
            "HTTP request sent, awaiting response... 200 OK\n",
            "Length: 22421891 (21M) [text/csv]\n",
            "Saving to: ‘04_cricket_1999to2011.csv’\n",
            "\n",
            "04_cricket_1999to20 100%[===================>]  21.38M  7.48MB/s    in 2.9s    \n",
            "\n",
            "2022-08-20 16:29:41 (7.48 MB/s) - ‘04_cricket_1999to2011.csv’ saved [22421891/22421891]\n",
            "\n"
          ]
        },
        {
          "output_type": "stream",
          "name": "stderr",
          "text": [
            "100%|██████████| 67794/67794 [00:58<00:00, 1167.43it/s]\n"
          ]
        }
      ],
      "metadata": {
        "id": "mkGIMI_6_BIw",
        "outputId": "af1000c5-cebf-4747-d7e6-66a12669b08d",
        "colab": {
          "base_uri": "https://localhost:8080/"
        }
      },
      "id": "mkGIMI_6_BIw"
    },
    {
      "cell_type": "code",
      "source": [
        "data = data[['Over', 'Total.Runs', 'Innings.Total.Runs', 'Wickets.in.Hand']] # Getting the required columns\n",
        "data"
      ],
      "metadata": {
        "colab": {
          "base_uri": "https://localhost:8080/",
          "height": 424
        },
        "id": "1u36NPKOBpYt",
        "outputId": "8d7025d6-8661-4d63-d83a-c47d0b0ff12b"
      },
      "id": "1u36NPKOBpYt",
      "execution_count": 3,
      "outputs": [
        {
          "output_type": "execute_result",
          "data": {
            "text/plain": [
              "        Over  Total.Runs  Innings.Total.Runs  Wickets.in.Hand\n",
              "0          1           4                 204               10\n",
              "1          2           6                 204               10\n",
              "2          3           9                 204               10\n",
              "3          4          20                 204               10\n",
              "4          5          37                 204               10\n",
              "...      ...         ...                 ...              ...\n",
              "126719    46         244                 267                6\n",
              "126720    47         250                 267                5\n",
              "126721    48         258                 267                5\n",
              "126722    49         258                 267                5\n",
              "126723    50         267                 267                4\n",
              "\n",
              "[67794 rows x 4 columns]"
            ],
            "text/html": [
              "\n",
              "  <div id=\"df-42531f75-e514-45a3-bac4-decb1428c8bf\">\n",
              "    <div class=\"colab-df-container\">\n",
              "      <div>\n",
              "<style scoped>\n",
              "    .dataframe tbody tr th:only-of-type {\n",
              "        vertical-align: middle;\n",
              "    }\n",
              "\n",
              "    .dataframe tbody tr th {\n",
              "        vertical-align: top;\n",
              "    }\n",
              "\n",
              "    .dataframe thead th {\n",
              "        text-align: right;\n",
              "    }\n",
              "</style>\n",
              "<table border=\"1\" class=\"dataframe\">\n",
              "  <thead>\n",
              "    <tr style=\"text-align: right;\">\n",
              "      <th></th>\n",
              "      <th>Over</th>\n",
              "      <th>Total.Runs</th>\n",
              "      <th>Innings.Total.Runs</th>\n",
              "      <th>Wickets.in.Hand</th>\n",
              "    </tr>\n",
              "  </thead>\n",
              "  <tbody>\n",
              "    <tr>\n",
              "      <th>0</th>\n",
              "      <td>1</td>\n",
              "      <td>4</td>\n",
              "      <td>204</td>\n",
              "      <td>10</td>\n",
              "    </tr>\n",
              "    <tr>\n",
              "      <th>1</th>\n",
              "      <td>2</td>\n",
              "      <td>6</td>\n",
              "      <td>204</td>\n",
              "      <td>10</td>\n",
              "    </tr>\n",
              "    <tr>\n",
              "      <th>2</th>\n",
              "      <td>3</td>\n",
              "      <td>9</td>\n",
              "      <td>204</td>\n",
              "      <td>10</td>\n",
              "    </tr>\n",
              "    <tr>\n",
              "      <th>3</th>\n",
              "      <td>4</td>\n",
              "      <td>20</td>\n",
              "      <td>204</td>\n",
              "      <td>10</td>\n",
              "    </tr>\n",
              "    <tr>\n",
              "      <th>4</th>\n",
              "      <td>5</td>\n",
              "      <td>37</td>\n",
              "      <td>204</td>\n",
              "      <td>10</td>\n",
              "    </tr>\n",
              "    <tr>\n",
              "      <th>...</th>\n",
              "      <td>...</td>\n",
              "      <td>...</td>\n",
              "      <td>...</td>\n",
              "      <td>...</td>\n",
              "    </tr>\n",
              "    <tr>\n",
              "      <th>126719</th>\n",
              "      <td>46</td>\n",
              "      <td>244</td>\n",
              "      <td>267</td>\n",
              "      <td>6</td>\n",
              "    </tr>\n",
              "    <tr>\n",
              "      <th>126720</th>\n",
              "      <td>47</td>\n",
              "      <td>250</td>\n",
              "      <td>267</td>\n",
              "      <td>5</td>\n",
              "    </tr>\n",
              "    <tr>\n",
              "      <th>126721</th>\n",
              "      <td>48</td>\n",
              "      <td>258</td>\n",
              "      <td>267</td>\n",
              "      <td>5</td>\n",
              "    </tr>\n",
              "    <tr>\n",
              "      <th>126722</th>\n",
              "      <td>49</td>\n",
              "      <td>258</td>\n",
              "      <td>267</td>\n",
              "      <td>5</td>\n",
              "    </tr>\n",
              "    <tr>\n",
              "      <th>126723</th>\n",
              "      <td>50</td>\n",
              "      <td>267</td>\n",
              "      <td>267</td>\n",
              "      <td>4</td>\n",
              "    </tr>\n",
              "  </tbody>\n",
              "</table>\n",
              "<p>67794 rows × 4 columns</p>\n",
              "</div>\n",
              "      <button class=\"colab-df-convert\" onclick=\"convertToInteractive('df-42531f75-e514-45a3-bac4-decb1428c8bf')\"\n",
              "              title=\"Convert this dataframe to an interactive table.\"\n",
              "              style=\"display:none;\">\n",
              "        \n",
              "  <svg xmlns=\"http://www.w3.org/2000/svg\" height=\"24px\"viewBox=\"0 0 24 24\"\n",
              "       width=\"24px\">\n",
              "    <path d=\"M0 0h24v24H0V0z\" fill=\"none\"/>\n",
              "    <path d=\"M18.56 5.44l.94 2.06.94-2.06 2.06-.94-2.06-.94-.94-2.06-.94 2.06-2.06.94zm-11 1L8.5 8.5l.94-2.06 2.06-.94-2.06-.94L8.5 2.5l-.94 2.06-2.06.94zm10 10l.94 2.06.94-2.06 2.06-.94-2.06-.94-.94-2.06-.94 2.06-2.06.94z\"/><path d=\"M17.41 7.96l-1.37-1.37c-.4-.4-.92-.59-1.43-.59-.52 0-1.04.2-1.43.59L10.3 9.45l-7.72 7.72c-.78.78-.78 2.05 0 2.83L4 21.41c.39.39.9.59 1.41.59.51 0 1.02-.2 1.41-.59l7.78-7.78 2.81-2.81c.8-.78.8-2.07 0-2.86zM5.41 20L4 18.59l7.72-7.72 1.47 1.35L5.41 20z\"/>\n",
              "  </svg>\n",
              "      </button>\n",
              "      \n",
              "  <style>\n",
              "    .colab-df-container {\n",
              "      display:flex;\n",
              "      flex-wrap:wrap;\n",
              "      gap: 12px;\n",
              "    }\n",
              "\n",
              "    .colab-df-convert {\n",
              "      background-color: #E8F0FE;\n",
              "      border: none;\n",
              "      border-radius: 50%;\n",
              "      cursor: pointer;\n",
              "      display: none;\n",
              "      fill: #1967D2;\n",
              "      height: 32px;\n",
              "      padding: 0 0 0 0;\n",
              "      width: 32px;\n",
              "    }\n",
              "\n",
              "    .colab-df-convert:hover {\n",
              "      background-color: #E2EBFA;\n",
              "      box-shadow: 0px 1px 2px rgba(60, 64, 67, 0.3), 0px 1px 3px 1px rgba(60, 64, 67, 0.15);\n",
              "      fill: #174EA6;\n",
              "    }\n",
              "\n",
              "    [theme=dark] .colab-df-convert {\n",
              "      background-color: #3B4455;\n",
              "      fill: #D2E3FC;\n",
              "    }\n",
              "\n",
              "    [theme=dark] .colab-df-convert:hover {\n",
              "      background-color: #434B5C;\n",
              "      box-shadow: 0px 1px 3px 1px rgba(0, 0, 0, 0.15);\n",
              "      filter: drop-shadow(0px 1px 2px rgba(0, 0, 0, 0.3));\n",
              "      fill: #FFFFFF;\n",
              "    }\n",
              "  </style>\n",
              "\n",
              "      <script>\n",
              "        const buttonEl =\n",
              "          document.querySelector('#df-42531f75-e514-45a3-bac4-decb1428c8bf button.colab-df-convert');\n",
              "        buttonEl.style.display =\n",
              "          google.colab.kernel.accessAllowed ? 'block' : 'none';\n",
              "\n",
              "        async function convertToInteractive(key) {\n",
              "          const element = document.querySelector('#df-42531f75-e514-45a3-bac4-decb1428c8bf');\n",
              "          const dataTable =\n",
              "            await google.colab.kernel.invokeFunction('convertToInteractive',\n",
              "                                                     [key], {});\n",
              "          if (!dataTable) return;\n",
              "\n",
              "          const docLinkHtml = 'Like what you see? Visit the ' +\n",
              "            '<a target=\"_blank\" href=https://colab.research.google.com/notebooks/data_table.ipynb>data table notebook</a>'\n",
              "            + ' to learn more about interactive tables.';\n",
              "          element.innerHTML = '';\n",
              "          dataTable['output_type'] = 'display_data';\n",
              "          await google.colab.output.renderOutput(dataTable, element);\n",
              "          const docLink = document.createElement('div');\n",
              "          docLink.innerHTML = docLinkHtml;\n",
              "          element.appendChild(docLink);\n",
              "        }\n",
              "      </script>\n",
              "    </div>\n",
              "  </div>\n",
              "  "
            ]
          },
          "metadata": {},
          "execution_count": 3
        }
      ]
    },
    {
      "cell_type": "code",
      "execution_count": 23,
      "source": [
        "def DLS():\n",
        "    x0 = 250 * np.ones(11)\n",
        "    x0[10] = 0.1\n",
        "    result = optimize.minimize(fun = error_func, x0 = x0, args = (data))\n",
        "    Z = result.x[:10]\n",
        "    L = result.x[10]\n",
        "    errors = np.zeros(10)\n",
        "\n",
        "    for w in range(1,11):\n",
        "        temp = data[data['Wickets.in.Hand'] == w]\n",
        "        overs_rem = 50 - temp['Over']\n",
        "        runs = temp['Innings.Total.Runs'] - temp['Total.Runs']\n",
        "        pred_runs = Z[w-1] * np.subtract(1, np.exp(np.multiply(-L/Z[w-1], overs_rem)))\n",
        "        errors[w-1] = np.sqrt(np.sum(np.square(np.subtract(runs, pred_runs))) / len(data))\n",
        "\n",
        "    return Z, L, errors\n",
        "\n",
        "def error_func(Z, data):\n",
        "    L=Z[10]\n",
        "    error=0\n",
        "\n",
        "    for w in range(1,11):\n",
        "        temp = data[data['Wickets.in.Hand'] == w]\n",
        "        overs_rem = 50 - temp['Over']\n",
        "        runs = temp['Innings.Total.Runs'] - temp['Total.Runs']\n",
        "        pred_runs = Z[w-1] * np.subtract(1, np.exp(np.multiply(-L/Z[w-1], overs_rem)))\n",
        "        error += np.sqrt(np.sum(np.square(np.subtract(runs, pred_runs))) / len(data))\n",
        "    \n",
        "    return error\n",
        "\n",
        "def func(Z, L, w, u):\n",
        "  return Z[w-1] * (1 - np.exp(-L*u/Z[w-1]))\n",
        "\n",
        "def display(Z, L):\n",
        "    for w in range(1, 11):\n",
        "        x = range(0, 51)\n",
        "        y = np.array([func(Z, L, w, u) for u in range(0, 51)])\n",
        "\n",
        "        plt.plot(x, y, label=str(w))\n",
        "        plt.text(x[-5],y[-5],w)\n",
        "        plt.xlabel(\"Overs Remaining\")\n",
        "        plt.ylabel(\"Runs\")\n",
        "    \n",
        "    plt.show()"
      ],
      "outputs": [],
      "metadata": {
        "id": "H7nNmSpo_BI7"
      },
      "id": "H7nNmSpo_BI7"
    },
    {
      "cell_type": "code",
      "execution_count": 24,
      "source": [
        "Z0, L, errors = DLS()\n",
        "display(Z0, L)"
      ],
      "outputs": [
        {
          "output_type": "stream",
          "name": "stderr",
          "text": [
            "100%|██████████| 10/10 [00:00<00:00, 390.59it/s]\n"
          ]
        },
        {
          "output_type": "display_data",
          "data": {
            "text/plain": [
              "<Figure size 432x288 with 1 Axes>"
            ],
            "image/png": "[encoded data removed]"
          },
          "metadata": {
            "needs_background": "light"
          }
        }
      ],
      "metadata": {
        "id": "VzdahY4a_BI-",
        "outputId": "7cd5b8ab-fb54-4a3d-de34-4fa038be44c2",
        "colab": {
          "base_uri": "https://localhost:8080/",
          "height": 298
        }
      },
      "id": "VzdahY4a_BI-"
    },
    {
      "cell_type": "code",
      "execution_count": 29,
      "source": [
        "print('Z0\\t\\tL\\t\\terrors\\n')\n",
        "for i in range(10):\n",
        "    print(f'{Z0[i]:.2f}\\t\\t{L:.5f}\\t{errors[i]:.2f}')"
      ],
      "outputs": [
        {
          "output_type": "stream",
          "name": "stdout",
          "text": [
            "Z0\t\tL\t\terrors\n",
            "\n",
            "11.67\t\t10.82669\t1.44\n",
            "26.83\t\t10.82669\t2.64\n",
            "50.68\t\t10.82669\t4.52\n",
            "78.72\t\t10.82669\t6.54\n",
            "104.16\t\t10.82669\t9.13\n",
            "138.01\t\t10.82669\t11.72\n",
            "169.31\t\t10.82669\t14.17\n",
            "208.20\t\t10.82669\t17.25\n",
            "239.85\t\t10.82669\t19.42\n",
            "285.13\t\t10.82669\t19.53\n"
          ]
        }
      ],
      "metadata": {
        "id": "VegI3RRh_BJB",
        "colab": {
          "base_uri": "https://localhost:8080/"
        },
        "outputId": "ef56a2d0-8ca1-4e0b-8fe2-99114c08f100"
      },
      "id": "VegI3RRh_BJB"
    },
    {
      "cell_type": "code",
      "source": [
        "# Getting the score using DLS for given resources remaining\n",
        "wkt = 7\n",
        "overs = 25\n",
        "print(f\"Target when {wkt} wickets in hand and {overs} overs remaining are: {int(np.ceil(func(Z0, L, wkt, overs)))}\")"
      ],
      "metadata": {
        "colab": {
          "base_uri": "https://localhost:8080/"
        },
        "id": "l-n_CIq9nw_G",
        "outputId": "4062ff6c-1d84-4bc6-e396-9f606737d37f"
      },
      "id": "l-n_CIq9nw_G",
      "execution_count": 19,
      "outputs": [
        {
          "output_type": "stream",
          "name": "stdout",
          "text": [
            "Target when 7 wickets in hand and 25 overs remaining are: 136\n"
          ]
        }
      ]
    }
  ],
  "metadata": {
    "celltoolbar": "Raw Cell Format",
    "kernelspec": {
      "name": "python3",
      "display_name": "Python 3.7.11 64-bit ('e0_259_da': conda)"
    },
    "language_info": {
      "codemirror_mode": {
        "name": "ipython",
        "version": 3
      },
      "file_extension": ".py",
      "mimetype": "text/x-python",
      "name": "python",
      "nbconvert_exporter": "python",
      "pygments_lexer": "ipython3",
      "version": "3.7.11"
    },
    "interpreter": {
      "hash": "d61b052aea91a905b9d5db2553fb2324b63891437893ba50f9db28ea472318bf"
    },
    "colab": {
      "provenance": [],
      "name": "DLS_Implementation.ipynb",
      "collapsed_sections": []
    }
  },
  "nbformat": 4,
  "nbformat_minor": 5
}